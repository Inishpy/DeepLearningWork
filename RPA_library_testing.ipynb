{
  "nbformat": 4,
  "nbformat_minor": 0,
  "metadata": {
    "colab": {
      "provenance": [],
      "authorship_tag": "ABX9TyP6YX28sRSByo/9vVzC5o/y",
      "include_colab_link": true
    },
    "kernelspec": {
      "name": "python3",
      "display_name": "Python 3"
    },
    "language_info": {
      "name": "python"
    }
  },
  "cells": [
    {
      "cell_type": "markdown",
      "metadata": {
        "id": "view-in-github",
        "colab_type": "text"
      },
      "source": [
        "<a href=\"https://colab.research.google.com/github/Inishpy/DeepLearningWork/blob/main/RPA_library_testing.ipynb\" target=\"_parent\"><img src=\"https://colab.research.google.com/assets/colab-badge.svg\" alt=\"Open In Colab\"/></a>"
      ]
    },
    {
      "cell_type": "code",
      "execution_count": null,
      "metadata": {
        "colab": {
          "base_uri": "https://localhost:8080/"
        },
        "id": "EEIdif2N_FxC",
        "outputId": "17ac4cd3-5bf7-44cd-b671-156b616d2d63"
      },
      "outputs": [
        {
          "output_type": "stream",
          "name": "stdout",
          "text": [
            "Collecting rpa\n",
            "  Downloading rpa-1.50.0.tar.gz (5.6 kB)\n",
            "  Preparing metadata (setup.py) ... \u001b[?25l\u001b[?25hdone\n",
            "Collecting tagui>=1.50.0 (from rpa)\n",
            "  Downloading tagui-1.50.0.tar.gz (28 kB)\n",
            "  Preparing metadata (setup.py) ... \u001b[?25l\u001b[?25hdone\n",
            "Building wheels for collected packages: rpa, tagui\n",
            "  Building wheel for rpa (setup.py) ... \u001b[?25l\u001b[?25hdone\n",
            "  Created wheel for rpa: filename=rpa-1.50.0-py3-none-any.whl size=6140 sha256=413fd989515dc1128b01a8ba651538958ba7d71ef4a3e670f8dd09750599bfa8\n",
            "  Stored in directory: /root/.cache/pip/wheels/80/bd/c9/d83f08c598958c274460ac034b153f174aec4d0fe85cc15c64\n",
            "  Building wheel for tagui (setup.py) ... \u001b[?25l\u001b[?25hdone\n",
            "  Created wheel for tagui: filename=tagui-1.50.0-py3-none-any.whl size=20141 sha256=410074fdc4301326b44e3f45c5228b5776451ae817df999cf5fea9e219b6fb5e\n",
            "  Stored in directory: /root/.cache/pip/wheels/fc/fb/31/f2014fa3c475b57e60f4ce0cf64f59b1467e9a48d1e551781f\n",
            "Successfully built rpa tagui\n",
            "Installing collected packages: tagui, rpa\n",
            "Successfully installed rpa-1.50.0 tagui-1.50.0\n"
          ]
        }
      ],
      "source": [
        "!pip install rpa"
      ]
    },
    {
      "cell_type": "code",
      "source": [
        "import rpa as r\n",
        "r"
      ],
      "metadata": {
        "colab": {
          "base_uri": "https://localhost:8080/"
        },
        "id": "fo0wvHwU_PUK",
        "outputId": "ae15078d-cf1d-43a3-8044-872940231fe3"
      },
      "execution_count": null,
      "outputs": [
        {
          "output_type": "execute_result",
          "data": {
            "text/plain": [
              "<module 'rpa' from '/usr/local/lib/python3.10/dist-packages/rpa.py'>"
            ]
          },
          "metadata": {},
          "execution_count": 10
        }
      ]
    },
    {
      "cell_type": "code",
      "source": [
        "r.init()\n",
        "r.url('https://duckduckgo.com')\n",
        "r.type('//*[@name=\"q\"]', 'decentralisation[enter]')\n",
        "r.wait() # ensure results are fully loaded\n",
        "r.snap('page', 'results.png')\n",
        "r.close()"
      ],
      "metadata": {
        "colab": {
          "base_uri": "https://localhost:8080/"
        },
        "id": "7No7e8a8_bVG",
        "outputId": "2faf07b8-3597-4d4c-a1cb-6df4e570162f"
      },
      "execution_count": null,
      "outputs": [
        {
          "output_type": "stream",
          "name": "stdout",
          "text": [
            "[RPA][ERROR] - following happens when starting TagUI...\n",
            "\n",
            "The following command is executed to start TagUI -\n",
            "\"/root/.tagui/src/tagui\" rpa_python chrome\n",
            "\n",
            "It leads to following output when starting TagUI -\n",
            "\n",
            "[RPA][ERROR] - unknown error encountered\n",
            "[RPA][ERROR] - use init() before using url()\n",
            "[RPA][ERROR] - use init() before using type()\n",
            "[RPA][ERROR] - use init() before using snap()\n",
            "[RPA][ERROR] - use init() before using close()\n"
          ]
        },
        {
          "output_type": "execute_result",
          "data": {
            "text/plain": [
              "False"
            ]
          },
          "metadata": {},
          "execution_count": 8
        }
      ]
    },
    {
      "cell_type": "code",
      "source": [],
      "metadata": {
        "id": "Ns3r86yA_gyw"
      },
      "execution_count": null,
      "outputs": []
    }
  ]
}