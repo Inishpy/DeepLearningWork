{
  "nbformat": 4,
  "nbformat_minor": 0,
  "metadata": {
    "colab": {
      "provenance": [],
      "authorship_tag": "ABX9TyOI3vz/YHkJ10eTnKMpZYWy",
      "include_colab_link": true
    },
    "kernelspec": {
      "name": "python3",
      "display_name": "Python 3"
    },
    "language_info": {
      "name": "python"
    }
  },
  "cells": [
    {
      "cell_type": "markdown",
      "metadata": {
        "id": "view-in-github",
        "colab_type": "text"
      },
      "source": [
        "<a href=\"https://colab.research.google.com/github/Inishpy/DeepLearningWork/blob/main/TTS_python_library.ipynb\" target=\"_parent\"><img src=\"https://colab.research.google.com/assets/colab-badge.svg\" alt=\"Open In Colab\"/></a>"
      ]
    },
    {
      "cell_type": "code",
      "execution_count": null,
      "metadata": {
        "colab": {
          "base_uri": "https://localhost:8080/"
        },
        "id": "quu3P-l9kFp1",
        "outputId": "57dc9706-1033-4ebf-b967-bda24e6c6909"
      },
      "outputs": [
        {
          "output_type": "stream",
          "name": "stdout",
          "text": [
            " > You must confirm the following:\n",
            " | > \"I have purchased a commercial license from Coqui: licensing@coqui.ai\"\n",
            " | > \"Otherwise, I agree to the terms of the non-commercial CPML: https://coqui.ai/cpml\" - [y/n]\n",
            " | | > y\n",
            " > Downloading model to /root/.local/share/tts/tts_models--multilingual--multi-dataset--xtts_v2\n"
          ]
        },
        {
          "output_type": "stream",
          "name": "stderr",
          "text": [
            "100%|█████████▉| 1.87G/1.87G [00:35<00:00, 48.0MiB/s]\n",
            "100%|██████████| 1.87G/1.87G [00:35<00:00, 52.3MiB/s]\n",
            "100%|██████████| 4.37k/4.37k [00:00<00:00, 8.84kiB/s]\n",
            "\n",
            "100%|██████████| 361k/361k [00:00<00:00, 635kiB/s]\n",
            "100%|██████████| 32.0/32.0 [00:00<00:00, 42.0iB/s]\n",
            " 74%|███████▎  | 5.71M/7.75M [00:00<00:00, 30.7MiB/s]"
          ]
        },
        {
          "output_type": "stream",
          "name": "stdout",
          "text": [
            " > Model's license - CPML\n",
            " > Check https://coqui.ai/cpml.txt for more info.\n",
            " > Using model: xtts\n"
          ]
        },
        {
          "output_type": "stream",
          "name": "stderr",
          "text": [
            "\r100%|██████████| 7.75M/7.75M [00:12<00:00, 30.7MiB/s]"
          ]
        }
      ],
      "source": [
        "from TTS.api import TTS\n",
        "\n",
        "tts = TTS(\"tts_models/multilingual/multi-dataset/xtts_v2\", gpu=False)"
      ]
    },
    {
      "cell_type": "code",
      "source": [
        "\n",
        "\n",
        "# generate speech by cloning a voice using default settings\n",
        "tts.tts_to_file(text=\"peter piper picked the peck of pickled pepper and ran away from the streets to meet his beloved friend.\",\n",
        "                file_path=\"output.wav\",\n",
        "                speaker_wav=\"audio.ogg\",\n",
        "                language=\"en\")"
      ],
      "metadata": {
        "colab": {
          "base_uri": "https://localhost:8080/",
          "height": 105
        },
        "id": "wR-Jr2NukHdY",
        "outputId": "26e05fe5-bf6d-44fc-86cf-3aa19ac8983d"
      },
      "execution_count": null,
      "outputs": [
        {
          "output_type": "stream",
          "name": "stdout",
          "text": [
            " > Text splitted to sentences.\n",
            "['peter piper picked the peck of pickled pepper and ran away from the streets to meet his beloved friend.']\n",
            " > Processing time: 67.84244155883789\n",
            " > Real-time factor: 5.460858873504671\n"
          ]
        },
        {
          "output_type": "execute_result",
          "data": {
            "text/plain": [
              "'output.wav'"
            ],
            "application/vnd.google.colaboratory.intrinsic+json": {
              "type": "string"
            }
          },
          "metadata": {},
          "execution_count": 5
        }
      ]
    },
    {
      "cell_type": "code",
      "source": [],
      "metadata": {
        "id": "A2MGVTsOlWJz"
      },
      "execution_count": null,
      "outputs": []
    }
  ]
}