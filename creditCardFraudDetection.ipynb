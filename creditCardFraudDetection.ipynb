{
  "nbformat": 4,
  "nbformat_minor": 0,
  "metadata": {
    "colab": {
      "provenance": [],
      "authorship_tag": "ABX9TyN1Gi5EXeGwNLQEUPZNjMnz",
      "include_colab_link": true
    },
    "kernelspec": {
      "name": "python3",
      "display_name": "Python 3"
    },
    "language_info": {
      "name": "python"
    }
  },
  "cells": [
    {
      "cell_type": "markdown",
      "metadata": {
        "id": "view-in-github",
        "colab_type": "text"
      },
      "source": [
        "<a href=\"https://colab.research.google.com/github/Inishpy/ML-and-DL-Project-works/blob/main/creditCardFraudDetection.ipynb\" target=\"_parent\"><img src=\"https://colab.research.google.com/assets/colab-badge.svg\" alt=\"Open In Colab\"/></a>"
      ]
    },
    {
      "cell_type": "code",
      "execution_count": null,
      "metadata": {
        "id": "rz9z88_nUsbQ"
      },
      "outputs": [],
      "source": [
        "huimport tensorflow as tf"
      ]
    },
    {
      "cell_type": "code",
      "source": [
        "import numpy as np\n",
        "import pandas as pd\n",
        "import seaborn\n",
        "import sklearn"
      ],
      "metadata": {
        "id": "5LSCsaioU37l"
      },
      "execution_count": null,
      "outputs": []
    },
    {
      "cell_type": "code",
      "source": [
        "import os\n",
        "import warnings\n",
        "warnings.filterwarnings('ignore')\n",
        "#Packages related to data importing, manipulation, exploratory data #analysis, data understanding\n",
        "import numpy as np\n",
        "import pandas as pd\n",
        "from pandas import Series, DataFrame\n",
        "\n",
        "\n",
        "\n",
        "#from termcolor import colored as cl # text customization\n",
        "#Packages related to data visualizaiton\n",
        "import seaborn as sns\n",
        "import matplotlib.pyplot as plt\n",
        "%matplotlib inline\n",
        "#Setting plot sizes and type of plot\n",
        "plt.rc(\"font\", size=14)\n",
        "plt.rcParams['axes.grid'] = True\n",
        "plt.figure(figsize=(6,3))\n",
        "plt.gray()\n",
        "from matplotlib.backends.backend_pdf import PdfPages\n",
        "\n",
        "\n",
        "from sklearn.model_selection import train_test_split, GridSearchCV\n",
        "from sklearn import metrics\n",
        "from sklearn.impute import MissingIndicator, SimpleImputer\n",
        "from sklearn.preprocessing import  PolynomialFeatures, KBinsDiscretizer, FunctionTransformer\n",
        "from sklearn.preprocessing import StandardScaler, MinMaxScaler, MaxAbsScaler\n",
        "from sklearn.preprocessing import LabelEncoder, OneHotEncoder, LabelBinarizer, OrdinalEncoder\n",
        "import statsmodels.formula.api as smf\n",
        "import statsmodels.tsa as tsa\n",
        "from sklearn.linear_model import LogisticRegression, LinearRegression, ElasticNet, Lasso, Ridge\n",
        "from sklearn.neighbors import KNeighborsClassifier, KNeighborsRegressor\n",
        "from sklearn.tree import DecisionTreeClassifier, DecisionTreeRegressor, export_graphviz\n",
        "from sklearn.ensemble import BaggingClassifier, BaggingRegressor,RandomForestClassifier,RandomForestRegressor\n",
        "from sklearn.ensemble import GradientBoostingClassifier,GradientBoostingRegressor, AdaBoostClassifier, AdaBoostRegressor\n",
        "from sklearn.svm import LinearSVC, LinearSVR, SVC, SVR\n",
        "#from xgboost import XGBClassifier\n",
        "from sklearn.metrics import f1_score\n",
        "from sklearn.metrics import accuracy_score\n",
        "from sklearn.metrics import confusion_matrix\n"
      ],
      "metadata": {
        "colab": {
          "base_uri": "https://localhost:8080/",
          "height": 34
        },
        "id": "CQL7bByHU9tn",
        "outputId": "e5ca7825-b091-4ad3-8111-7f6fc75a5876"
      },
      "execution_count": null,
      "outputs": [
        {
          "output_type": "display_data",
          "data": {
            "text/plain": [
              "<Figure size 432x216 with 0 Axes>"
            ]
          },
          "metadata": {}
        }
      ]
    },
    {
      "cell_type": "code",
      "source": [
        "import io\n",
        "data = pd.read_csv('/creditcard.csv')\n",
        "data.fillna(0)"
      ],
      "metadata": {
        "colab": {
          "base_uri": "https://localhost:8080/",
          "height": 488
        },
        "id": "cn47vPF_VF_r",
        "outputId": "10f984b0-56f5-4214-ce43-64773cf41431"
      },
      "execution_count": null,
      "outputs": [
        {
          "output_type": "execute_result",
          "data": {
            "text/plain": [
              "            Time        V1        V2        V3        V4        V5        V6  \\\n",
              "0            0.0 -1.359807 -0.072781  2.536347  1.378155 -0.338321  0.462388   \n",
              "1            0.0  1.191857  0.266151  0.166480  0.448154  0.060018 -0.082361   \n",
              "2            1.0 -1.358354 -1.340163  1.773209  0.379780 -0.503198  1.800499   \n",
              "3            1.0 -0.966272 -0.185226  1.792993 -0.863291 -0.010309  1.247203   \n",
              "4            2.0 -1.158233  0.877737  1.548718  0.403034 -0.407193  0.095921   \n",
              "...          ...       ...       ...       ...       ...       ...       ...   \n",
              "170458  120193.0  2.032686 -0.070219 -1.093517  0.467291 -0.321890 -1.505390   \n",
              "170459  120193.0 -0.454479  1.201642  0.081936 -0.695024  0.410704 -1.057838   \n",
              "170460  120194.0  2.094119 -1.713483 -0.778604 -1.611163 -1.361482 -0.085073   \n",
              "170461  120194.0 -3.644269 -0.747473 -0.267792 -0.807058 -0.947888  2.388635   \n",
              "170462  120194.0 -0.085730  1.014485 -0.708676 -0.798981  0.964767 -0.327944   \n",
              "\n",
              "              V7        V8        V9  ...       V21       V22       V23  \\\n",
              "0       0.239599  0.098698  0.363787  ... -0.018307  0.277838 -0.110474   \n",
              "1      -0.078803  0.085102 -0.255425  ... -0.225775 -0.638672  0.101288   \n",
              "2       0.791461  0.247676 -1.514654  ...  0.247998  0.771679  0.909412   \n",
              "3       0.237609  0.377436 -1.387024  ... -0.108300  0.005274 -0.190321   \n",
              "4       0.592941 -0.270533  0.817739  ... -0.009431  0.798278 -0.137458   \n",
              "...          ...       ...       ...  ...       ...       ...       ...   \n",
              "170458  0.147641 -0.345532  0.724209  ...  0.283248  0.955811  0.067464   \n",
              "170459  1.041520 -0.210913  0.225049  ... -0.312785 -0.531973  0.083066   \n",
              "170460 -1.331477  0.037524 -1.286570  ... -0.048644  0.152273  0.232052   \n",
              "170461 -2.097686  2.285523  0.114737  ... -0.408052  0.103611  0.656432   \n",
              "170462  0.716129  0.186059  0.208413  ...  0.000000  0.000000  0.000000   \n",
              "\n",
              "             V24       V25       V26       V27       V28  Amount  Class  \n",
              "0       0.066928  0.128539 -0.189115  0.133558 -0.021053  149.62    0.0  \n",
              "1      -0.339846  0.167170  0.125895 -0.008983  0.014724    2.69    0.0  \n",
              "2      -0.689281 -0.327642 -0.139097 -0.055353 -0.059752  378.66    0.0  \n",
              "3      -1.175575  0.647376 -0.221929  0.062723  0.061458  123.50    0.0  \n",
              "4       0.141267 -0.206010  0.502292  0.219422  0.215153   69.99    0.0  \n",
              "...          ...       ...       ...       ...       ...     ...    ...  \n",
              "170458  0.417168  0.157534 -0.121672 -0.017449 -0.055632    1.00    0.0  \n",
              "170459 -0.005112 -0.375916  0.150884  0.476890  0.223036   13.98    0.0  \n",
              "170460  0.681825 -0.346774 -0.233445  0.006162 -0.035610   88.00    0.0  \n",
              "170461 -0.966815 -0.365917 -0.226191 -0.090287 -0.423226   53.86    0.0  \n",
              "170462  0.000000  0.000000  0.000000  0.000000  0.000000    0.00    0.0  \n",
              "\n",
              "[170463 rows x 31 columns]"
            ],
            "text/html": [
              "\n",
              "  <div id=\"df-1a8b7e37-adb7-4df3-a1de-e9543d360ad8\">\n",
              "    <div class=\"colab-df-container\">\n",
              "      <div>\n",
              "<style scoped>\n",
              "    .dataframe tbody tr th:only-of-type {\n",
              "        vertical-align: middle;\n",
              "    }\n",
              "\n",
              "    .dataframe tbody tr th {\n",
              "        vertical-align: top;\n",
              "    }\n",
              "\n",
              "    .dataframe thead th {\n",
              "        text-align: right;\n",
              "    }\n",
              "</style>\n",
              "<table border=\"1\" class=\"dataframe\">\n",
              "  <thead>\n",
              "    <tr style=\"text-align: right;\">\n",
              "      <th></th>\n",
              "      <th>Time</th>\n",
              "      <th>V1</th>\n",
              "      <th>V2</th>\n",
              "      <th>V3</th>\n",
              "      <th>V4</th>\n",
              "      <th>V5</th>\n",
              "      <th>V6</th>\n",
              "      <th>V7</th>\n",
              "      <th>V8</th>\n",
              "      <th>V9</th>\n",
              "      <th>...</th>\n",
              "      <th>V21</th>\n",
              "      <th>V22</th>\n",
              "      <th>V23</th>\n",
              "      <th>V24</th>\n",
              "      <th>V25</th>\n",
              "      <th>V26</th>\n",
              "      <th>V27</th>\n",
              "      <th>V28</th>\n",
              "      <th>Amount</th>\n",
              "      <th>Class</th>\n",
              "    </tr>\n",
              "  </thead>\n",
              "  <tbody>\n",
              "    <tr>\n",
              "      <th>0</th>\n",
              "      <td>0.0</td>\n",
              "      <td>-1.359807</td>\n",
              "      <td>-0.072781</td>\n",
              "      <td>2.536347</td>\n",
              "      <td>1.378155</td>\n",
              "      <td>-0.338321</td>\n",
              "      <td>0.462388</td>\n",
              "      <td>0.239599</td>\n",
              "      <td>0.098698</td>\n",
              "      <td>0.363787</td>\n",
              "      <td>...</td>\n",
              "      <td>-0.018307</td>\n",
              "      <td>0.277838</td>\n",
              "      <td>-0.110474</td>\n",
              "      <td>0.066928</td>\n",
              "      <td>0.128539</td>\n",
              "      <td>-0.189115</td>\n",
              "      <td>0.133558</td>\n",
              "      <td>-0.021053</td>\n",
              "      <td>149.62</td>\n",
              "      <td>0.0</td>\n",
              "    </tr>\n",
              "    <tr>\n",
              "      <th>1</th>\n",
              "      <td>0.0</td>\n",
              "      <td>1.191857</td>\n",
              "      <td>0.266151</td>\n",
              "      <td>0.166480</td>\n",
              "      <td>0.448154</td>\n",
              "      <td>0.060018</td>\n",
              "      <td>-0.082361</td>\n",
              "      <td>-0.078803</td>\n",
              "      <td>0.085102</td>\n",
              "      <td>-0.255425</td>\n",
              "      <td>...</td>\n",
              "      <td>-0.225775</td>\n",
              "      <td>-0.638672</td>\n",
              "      <td>0.101288</td>\n",
              "      <td>-0.339846</td>\n",
              "      <td>0.167170</td>\n",
              "      <td>0.125895</td>\n",
              "      <td>-0.008983</td>\n",
              "      <td>0.014724</td>\n",
              "      <td>2.69</td>\n",
              "      <td>0.0</td>\n",
              "    </tr>\n",
              "    <tr>\n",
              "      <th>2</th>\n",
              "      <td>1.0</td>\n",
              "      <td>-1.358354</td>\n",
              "      <td>-1.340163</td>\n",
              "      <td>1.773209</td>\n",
              "      <td>0.379780</td>\n",
              "      <td>-0.503198</td>\n",
              "      <td>1.800499</td>\n",
              "      <td>0.791461</td>\n",
              "      <td>0.247676</td>\n",
              "      <td>-1.514654</td>\n",
              "      <td>...</td>\n",
              "      <td>0.247998</td>\n",
              "      <td>0.771679</td>\n",
              "      <td>0.909412</td>\n",
              "      <td>-0.689281</td>\n",
              "      <td>-0.327642</td>\n",
              "      <td>-0.139097</td>\n",
              "      <td>-0.055353</td>\n",
              "      <td>-0.059752</td>\n",
              "      <td>378.66</td>\n",
              "      <td>0.0</td>\n",
              "    </tr>\n",
              "    <tr>\n",
              "      <th>3</th>\n",
              "      <td>1.0</td>\n",
              "      <td>-0.966272</td>\n",
              "      <td>-0.185226</td>\n",
              "      <td>1.792993</td>\n",
              "      <td>-0.863291</td>\n",
              "      <td>-0.010309</td>\n",
              "      <td>1.247203</td>\n",
              "      <td>0.237609</td>\n",
              "      <td>0.377436</td>\n",
              "      <td>-1.387024</td>\n",
              "      <td>...</td>\n",
              "      <td>-0.108300</td>\n",
              "      <td>0.005274</td>\n",
              "      <td>-0.190321</td>\n",
              "      <td>-1.175575</td>\n",
              "      <td>0.647376</td>\n",
              "      <td>-0.221929</td>\n",
              "      <td>0.062723</td>\n",
              "      <td>0.061458</td>\n",
              "      <td>123.50</td>\n",
              "      <td>0.0</td>\n",
              "    </tr>\n",
              "    <tr>\n",
              "      <th>4</th>\n",
              "      <td>2.0</td>\n",
              "      <td>-1.158233</td>\n",
              "      <td>0.877737</td>\n",
              "      <td>1.548718</td>\n",
              "      <td>0.403034</td>\n",
              "      <td>-0.407193</td>\n",
              "      <td>0.095921</td>\n",
              "      <td>0.592941</td>\n",
              "      <td>-0.270533</td>\n",
              "      <td>0.817739</td>\n",
              "      <td>...</td>\n",
              "      <td>-0.009431</td>\n",
              "      <td>0.798278</td>\n",
              "      <td>-0.137458</td>\n",
              "      <td>0.141267</td>\n",
              "      <td>-0.206010</td>\n",
              "      <td>0.502292</td>\n",
              "      <td>0.219422</td>\n",
              "      <td>0.215153</td>\n",
              "      <td>69.99</td>\n",
              "      <td>0.0</td>\n",
              "    </tr>\n",
              "    <tr>\n",
              "      <th>...</th>\n",
              "      <td>...</td>\n",
              "      <td>...</td>\n",
              "      <td>...</td>\n",
              "      <td>...</td>\n",
              "      <td>...</td>\n",
              "      <td>...</td>\n",
              "      <td>...</td>\n",
              "      <td>...</td>\n",
              "      <td>...</td>\n",
              "      <td>...</td>\n",
              "      <td>...</td>\n",
              "      <td>...</td>\n",
              "      <td>...</td>\n",
              "      <td>...</td>\n",
              "      <td>...</td>\n",
              "      <td>...</td>\n",
              "      <td>...</td>\n",
              "      <td>...</td>\n",
              "      <td>...</td>\n",
              "      <td>...</td>\n",
              "      <td>...</td>\n",
              "    </tr>\n",
              "    <tr>\n",
              "      <th>170458</th>\n",
              "      <td>120193.0</td>\n",
              "      <td>2.032686</td>\n",
              "      <td>-0.070219</td>\n",
              "      <td>-1.093517</td>\n",
              "      <td>0.467291</td>\n",
              "      <td>-0.321890</td>\n",
              "      <td>-1.505390</td>\n",
              "      <td>0.147641</td>\n",
              "      <td>-0.345532</td>\n",
              "      <td>0.724209</td>\n",
              "      <td>...</td>\n",
              "      <td>0.283248</td>\n",
              "      <td>0.955811</td>\n",
              "      <td>0.067464</td>\n",
              "      <td>0.417168</td>\n",
              "      <td>0.157534</td>\n",
              "      <td>-0.121672</td>\n",
              "      <td>-0.017449</td>\n",
              "      <td>-0.055632</td>\n",
              "      <td>1.00</td>\n",
              "      <td>0.0</td>\n",
              "    </tr>\n",
              "    <tr>\n",
              "      <th>170459</th>\n",
              "      <td>120193.0</td>\n",
              "      <td>-0.454479</td>\n",
              "      <td>1.201642</td>\n",
              "      <td>0.081936</td>\n",
              "      <td>-0.695024</td>\n",
              "      <td>0.410704</td>\n",
              "      <td>-1.057838</td>\n",
              "      <td>1.041520</td>\n",
              "      <td>-0.210913</td>\n",
              "      <td>0.225049</td>\n",
              "      <td>...</td>\n",
              "      <td>-0.312785</td>\n",
              "      <td>-0.531973</td>\n",
              "      <td>0.083066</td>\n",
              "      <td>-0.005112</td>\n",
              "      <td>-0.375916</td>\n",
              "      <td>0.150884</td>\n",
              "      <td>0.476890</td>\n",
              "      <td>0.223036</td>\n",
              "      <td>13.98</td>\n",
              "      <td>0.0</td>\n",
              "    </tr>\n",
              "    <tr>\n",
              "      <th>170460</th>\n",
              "      <td>120194.0</td>\n",
              "      <td>2.094119</td>\n",
              "      <td>-1.713483</td>\n",
              "      <td>-0.778604</td>\n",
              "      <td>-1.611163</td>\n",
              "      <td>-1.361482</td>\n",
              "      <td>-0.085073</td>\n",
              "      <td>-1.331477</td>\n",
              "      <td>0.037524</td>\n",
              "      <td>-1.286570</td>\n",
              "      <td>...</td>\n",
              "      <td>-0.048644</td>\n",
              "      <td>0.152273</td>\n",
              "      <td>0.232052</td>\n",
              "      <td>0.681825</td>\n",
              "      <td>-0.346774</td>\n",
              "      <td>-0.233445</td>\n",
              "      <td>0.006162</td>\n",
              "      <td>-0.035610</td>\n",
              "      <td>88.00</td>\n",
              "      <td>0.0</td>\n",
              "    </tr>\n",
              "    <tr>\n",
              "      <th>170461</th>\n",
              "      <td>120194.0</td>\n",
              "      <td>-3.644269</td>\n",
              "      <td>-0.747473</td>\n",
              "      <td>-0.267792</td>\n",
              "      <td>-0.807058</td>\n",
              "      <td>-0.947888</td>\n",
              "      <td>2.388635</td>\n",
              "      <td>-2.097686</td>\n",
              "      <td>2.285523</td>\n",
              "      <td>0.114737</td>\n",
              "      <td>...</td>\n",
              "      <td>-0.408052</td>\n",
              "      <td>0.103611</td>\n",
              "      <td>0.656432</td>\n",
              "      <td>-0.966815</td>\n",
              "      <td>-0.365917</td>\n",
              "      <td>-0.226191</td>\n",
              "      <td>-0.090287</td>\n",
              "      <td>-0.423226</td>\n",
              "      <td>53.86</td>\n",
              "      <td>0.0</td>\n",
              "    </tr>\n",
              "    <tr>\n",
              "      <th>170462</th>\n",
              "      <td>120194.0</td>\n",
              "      <td>-0.085730</td>\n",
              "      <td>1.014485</td>\n",
              "      <td>-0.708676</td>\n",
              "      <td>-0.798981</td>\n",
              "      <td>0.964767</td>\n",
              "      <td>-0.327944</td>\n",
              "      <td>0.716129</td>\n",
              "      <td>0.186059</td>\n",
              "      <td>0.208413</td>\n",
              "      <td>...</td>\n",
              "      <td>0.000000</td>\n",
              "      <td>0.000000</td>\n",
              "      <td>0.000000</td>\n",
              "      <td>0.000000</td>\n",
              "      <td>0.000000</td>\n",
              "      <td>0.000000</td>\n",
              "      <td>0.000000</td>\n",
              "      <td>0.000000</td>\n",
              "      <td>0.00</td>\n",
              "      <td>0.0</td>\n",
              "    </tr>\n",
              "  </tbody>\n",
              "</table>\n",
              "<p>170463 rows × 31 columns</p>\n",
              "</div>\n",
              "      <button class=\"colab-df-convert\" onclick=\"convertToInteractive('df-1a8b7e37-adb7-4df3-a1de-e9543d360ad8')\"\n",
              "              title=\"Convert this dataframe to an interactive table.\"\n",
              "              style=\"display:none;\">\n",
              "        \n",
              "  <svg xmlns=\"http://www.w3.org/2000/svg\" height=\"24px\"viewBox=\"0 0 24 24\"\n",
              "       width=\"24px\">\n",
              "    <path d=\"M0 0h24v24H0V0z\" fill=\"none\"/>\n",
              "    <path d=\"M18.56 5.44l.94 2.06.94-2.06 2.06-.94-2.06-.94-.94-2.06-.94 2.06-2.06.94zm-11 1L8.5 8.5l.94-2.06 2.06-.94-2.06-.94L8.5 2.5l-.94 2.06-2.06.94zm10 10l.94 2.06.94-2.06 2.06-.94-2.06-.94-.94-2.06-.94 2.06-2.06.94z\"/><path d=\"M17.41 7.96l-1.37-1.37c-.4-.4-.92-.59-1.43-.59-.52 0-1.04.2-1.43.59L10.3 9.45l-7.72 7.72c-.78.78-.78 2.05 0 2.83L4 21.41c.39.39.9.59 1.41.59.51 0 1.02-.2 1.41-.59l7.78-7.78 2.81-2.81c.8-.78.8-2.07 0-2.86zM5.41 20L4 18.59l7.72-7.72 1.47 1.35L5.41 20z\"/>\n",
              "  </svg>\n",
              "      </button>\n",
              "      \n",
              "  <style>\n",
              "    .colab-df-container {\n",
              "      display:flex;\n",
              "      flex-wrap:wrap;\n",
              "      gap: 12px;\n",
              "    }\n",
              "\n",
              "    .colab-df-convert {\n",
              "      background-color: #E8F0FE;\n",
              "      border: none;\n",
              "      border-radius: 50%;\n",
              "      cursor: pointer;\n",
              "      display: none;\n",
              "      fill: #1967D2;\n",
              "      height: 32px;\n",
              "      padding: 0 0 0 0;\n",
              "      width: 32px;\n",
              "    }\n",
              "\n",
              "    .colab-df-convert:hover {\n",
              "      background-color: #E2EBFA;\n",
              "      box-shadow: 0px 1px 2px rgba(60, 64, 67, 0.3), 0px 1px 3px 1px rgba(60, 64, 67, 0.15);\n",
              "      fill: #174EA6;\n",
              "    }\n",
              "\n",
              "    [theme=dark] .colab-df-convert {\n",
              "      background-color: #3B4455;\n",
              "      fill: #D2E3FC;\n",
              "    }\n",
              "\n",
              "    [theme=dark] .colab-df-convert:hover {\n",
              "      background-color: #434B5C;\n",
              "      box-shadow: 0px 1px 3px 1px rgba(0, 0, 0, 0.15);\n",
              "      filter: drop-shadow(0px 1px 2px rgba(0, 0, 0, 0.3));\n",
              "      fill: #FFFFFF;\n",
              "    }\n",
              "  </style>\n",
              "\n",
              "      <script>\n",
              "        const buttonEl =\n",
              "          document.querySelector('#df-1a8b7e37-adb7-4df3-a1de-e9543d360ad8 button.colab-df-convert');\n",
              "        buttonEl.style.display =\n",
              "          google.colab.kernel.accessAllowed ? 'block' : 'none';\n",
              "\n",
              "        async function convertToInteractive(key) {\n",
              "          const element = document.querySelector('#df-1a8b7e37-adb7-4df3-a1de-e9543d360ad8');\n",
              "          const dataTable =\n",
              "            await google.colab.kernel.invokeFunction('convertToInteractive',\n",
              "                                                     [key], {});\n",
              "          if (!dataTable) return;\n",
              "\n",
              "          const docLinkHtml = 'Like what you see? Visit the ' +\n",
              "            '<a target=\"_blank\" href=https://colab.research.google.com/notebooks/data_table.ipynb>data table notebook</a>'\n",
              "            + ' to learn more about interactive tables.';\n",
              "          element.innerHTML = '';\n",
              "          dataTable['output_type'] = 'display_data';\n",
              "          await google.colab.output.renderOutput(dataTable, element);\n",
              "          const docLink = document.createElement('div');\n",
              "          docLink.innerHTML = docLinkHtml;\n",
              "          element.appendChild(docLink);\n",
              "        }\n",
              "      </script>\n",
              "    </div>\n",
              "  </div>\n",
              "  "
            ]
          },
          "metadata": {},
          "execution_count": 25
        }
      ]
    },
    {
      "cell_type": "code",
      "source": [
        "Total_transactions = len(data)\n",
        "normal = len(data[data.Class == 0])\n",
        "fraudulent = len(data[data.Class == 1])\n",
        "fraud_percentage = round(fraudulent/normal*100, 2)\n",
        "print('Total number of Trnsactions are {}'.format(Total_transactions))\n",
        "print('Number of Normal Transactions are {}'.format(normal))\n",
        "print('Number of fraudulent Transactions are {}'.format(fraudulent))\n",
        "print('Percentage of fraud Transactions is {}'.format(fraud_percentage))"
      ],
      "metadata": {
        "colab": {
          "base_uri": "https://localhost:8080/"
        },
        "id": "8uwcWK13VUvm",
        "outputId": "1ae92369-3c15-485e-99fe-ba6170d15e08"
      },
      "execution_count": null,
      "outputs": [
        {
          "output_type": "stream",
          "name": "stdout",
          "text": [
            "Total number of Trnsactions are 170463\n",
            "Number of Normal Transactions are 170102\n",
            "Number of fraudulent Transactions are 360\n",
            "Percentage of fraud Transactions is 0.21\n"
          ]
        }
      ]
    },
    {
      "cell_type": "code",
      "source": [
        "data.info()"
      ],
      "metadata": {
        "colab": {
          "base_uri": "https://localhost:8080/"
        },
        "id": "2ys4dkl1WxuC",
        "outputId": "ec8e02c3-87f6-4ea6-faa0-a5ce6def3759"
      },
      "execution_count": null,
      "outputs": [
        {
          "output_type": "stream",
          "name": "stdout",
          "text": [
            "<class 'pandas.core.frame.DataFrame'>\n",
            "RangeIndex: 170463 entries, 0 to 170462\n",
            "Data columns (total 31 columns):\n",
            " #   Column  Non-Null Count   Dtype  \n",
            "---  ------  --------------   -----  \n",
            " 0   Time    170463 non-null  float64\n",
            " 1   V1      170463 non-null  float64\n",
            " 2   V2      170463 non-null  float64\n",
            " 3   V3      170463 non-null  float64\n",
            " 4   V4      170463 non-null  float64\n",
            " 5   V5      170463 non-null  float64\n",
            " 6   V6      170463 non-null  float64\n",
            " 7   V7      170463 non-null  float64\n",
            " 8   V8      170463 non-null  float64\n",
            " 9   V9      170463 non-null  float64\n",
            " 10  V10     170463 non-null  float64\n",
            " 11  V11     170463 non-null  float64\n",
            " 12  V12     170463 non-null  float64\n",
            " 13  V13     170463 non-null  float64\n",
            " 14  V14     170463 non-null  float64\n",
            " 15  V15     170463 non-null  float64\n",
            " 16  V16     170463 non-null  float64\n",
            " 17  V17     170463 non-null  float64\n",
            " 18  V18     170462 non-null  float64\n",
            " 19  V19     170462 non-null  float64\n",
            " 20  V20     170462 non-null  float64\n",
            " 21  V21     170462 non-null  float64\n",
            " 22  V22     170462 non-null  float64\n",
            " 23  V23     170462 non-null  float64\n",
            " 24  V24     170462 non-null  float64\n",
            " 25  V25     170462 non-null  float64\n",
            " 26  V26     170462 non-null  float64\n",
            " 27  V27     170462 non-null  float64\n",
            " 28  V28     170462 non-null  float64\n",
            " 29  Amount  170462 non-null  float64\n",
            " 30  Class   170462 non-null  float64\n",
            "dtypes: float64(31)\n",
            "memory usage: 40.3 MB\n"
          ]
        }
      ]
    },
    {
      "cell_type": "code",
      "source": [
        "sc = StandardScaler()\n",
        "amount = data['Amount'].values\n",
        "data['Amount'] = sc.fit_transform(amount.reshape(-1, 1))"
      ],
      "metadata": {
        "id": "Yv-uJZ17W7Wz"
      },
      "execution_count": null,
      "outputs": []
    },
    {
      "cell_type": "code",
      "source": [
        "data.drop(['Time'], axis=1, inplace=True)"
      ],
      "metadata": {
        "id": "zab5aolCW-p4"
      },
      "execution_count": null,
      "outputs": []
    },
    {
      "cell_type": "code",
      "source": [
        "data.drop_duplicates(inplace=True)"
      ],
      "metadata": {
        "id": "a0C8Fz7aXAgi"
      },
      "execution_count": null,
      "outputs": []
    },
    {
      "cell_type": "code",
      "source": [
        "X = data.drop('Class', axis = 1).values\n",
        "y = data['Class'].values"
      ],
      "metadata": {
        "id": "e7X9-ngvXCip"
      },
      "execution_count": null,
      "outputs": []
    },
    {
      "cell_type": "code",
      "source": [
        "X_train, X_test, y_train, y_test = train_test_split(X, y, test_size = 0.25, random_state = 1)"
      ],
      "metadata": {
        "id": "e_uCzV_LXEYI"
      },
      "execution_count": null,
      "outputs": []
    },
    {
      "cell_type": "code",
      "source": [
        "n = 7\n",
        "KNN = KNeighborsClassifier(n_neighbors = n)\n",
        "#KNN.fit(X_train, y_train)\n",
        "knn_yhat = KNN.predict(X_test)\n",
        "\n"
      ],
      "metadata": {
        "id": "en3ejd2mXGNg"
      },
      "execution_count": null,
      "outputs": []
    },
    {
      "cell_type": "code",
      "source": [
        "print('Accuracy score of the K-Nearest Neighbors model is {}'.format(accuracy_score(y_test, knn_yhat)))\n"
      ],
      "metadata": {
        "id": "lUWJGi4DXUow"
      },
      "execution_count": null,
      "outputs": []
    },
    {
      "cell_type": "code",
      "source": [
        "print('F1 score of the K-Nearest Neighbors model is {}'.format(f1_score(y_test, knn_yhat)))"
      ],
      "metadata": {
        "id": "uKV7svrnXQK8"
      },
      "execution_count": null,
      "outputs": []
    },
    {
      "cell_type": "code",
      "source": [
        "import numpy as np\n",
        "import matplotlib.pyplot as plt\n",
        "\n",
        "import tensorflow as tf\n",
        "from tensorflow.keras.models import Sequential\n",
        "from tensorflow.keras.layers import Dense"
      ],
      "metadata": {
        "id": "IVWBlRmEXRjd"
      },
      "execution_count": null,
      "outputs": []
    },
    {
      "cell_type": "code",
      "source": [
        "print(X[:,18])\n",
        "for i in range(29):\n",
        "  print(f\"Temperature Max, Min pre normalization: {np.max(X[:,i]):0.2f}, {np.min(X[:,i]):0.2f}\")\n",
        "\n",
        "norm_l = tf.keras.layers.Normalization(axis=-1)\n",
        "norm_l.adapt(X)  # learns mean, variance\n",
        "Xn = norm_l(X)\n",
        "for i in range(29):\n",
        "  print(f\"Temperature Max, Min post normalization: {np.max(X[:,i]):0.2f}, {np.min(X[:,i]):0.2f}\")\n"
      ],
      "metadata": {
        "colab": {
          "base_uri": "https://localhost:8080/"
        },
        "id": "yKfco7N2XXbu",
        "outputId": "be21af47-64e2-458a-dbf3-39b80af76dd0"
      },
      "execution_count": null,
      "outputs": [
        {
          "output_type": "stream",
          "name": "stdout",
          "text": [
            "[ 0.40399296 -0.14578304 -2.2618571  ... -0.0227358  -0.64844676\n",
            "         nan]\n",
            "Temperature Max, Min pre normalization: 2.44, -56.41\n",
            "Temperature Max, Min pre normalization: 22.06, -72.72\n",
            "Temperature Max, Min pre normalization: 9.38, -33.68\n",
            "Temperature Max, Min pre normalization: 16.88, -5.52\n",
            "Temperature Max, Min pre normalization: 34.80, -42.15\n",
            "Temperature Max, Min pre normalization: 22.53, -26.16\n",
            "Temperature Max, Min pre normalization: 36.68, -43.56\n",
            "Temperature Max, Min pre normalization: 20.01, -73.22\n",
            "Temperature Max, Min pre normalization: 15.59, -13.43\n",
            "Temperature Max, Min pre normalization: 23.75, -24.59\n",
            "Temperature Max, Min pre normalization: 12.02, -4.05\n",
            "Temperature Max, Min pre normalization: 7.85, -18.68\n",
            "Temperature Max, Min pre normalization: 4.57, -5.79\n",
            "Temperature Max, Min pre normalization: 10.53, -19.21\n",
            "Temperature Max, Min pre normalization: 5.78, -4.50\n",
            "Temperature Max, Min pre normalization: 6.10, -14.13\n",
            "Temperature Max, Min pre normalization: 9.25, -25.16\n",
            "Temperature Max, Min pre normalization: nan, nan\n",
            "Temperature Max, Min pre normalization: nan, nan\n",
            "Temperature Max, Min pre normalization: nan, nan\n",
            "Temperature Max, Min pre normalization: nan, nan\n",
            "Temperature Max, Min pre normalization: nan, nan\n",
            "Temperature Max, Min pre normalization: nan, nan\n",
            "Temperature Max, Min pre normalization: nan, nan\n",
            "Temperature Max, Min pre normalization: nan, nan\n",
            "Temperature Max, Min pre normalization: nan, nan\n",
            "Temperature Max, Min pre normalization: nan, nan\n",
            "Temperature Max, Min pre normalization: nan, nan\n",
            "Temperature Max, Min pre normalization: nan, nan\n",
            "Temperature Max, Min post normalization: 2.44, -56.41\n",
            "Temperature Max, Min post normalization: 22.06, -72.72\n",
            "Temperature Max, Min post normalization: 9.38, -33.68\n",
            "Temperature Max, Min post normalization: 16.88, -5.52\n",
            "Temperature Max, Min post normalization: 34.80, -42.15\n",
            "Temperature Max, Min post normalization: 22.53, -26.16\n",
            "Temperature Max, Min post normalization: 36.68, -43.56\n",
            "Temperature Max, Min post normalization: 20.01, -73.22\n",
            "Temperature Max, Min post normalization: 15.59, -13.43\n",
            "Temperature Max, Min post normalization: 23.75, -24.59\n",
            "Temperature Max, Min post normalization: 12.02, -4.05\n",
            "Temperature Max, Min post normalization: 7.85, -18.68\n",
            "Temperature Max, Min post normalization: 4.57, -5.79\n",
            "Temperature Max, Min post normalization: 10.53, -19.21\n",
            "Temperature Max, Min post normalization: 5.78, -4.50\n",
            "Temperature Max, Min post normalization: 6.10, -14.13\n",
            "Temperature Max, Min post normalization: 9.25, -25.16\n",
            "Temperature Max, Min post normalization: nan, nan\n",
            "Temperature Max, Min post normalization: nan, nan\n",
            "Temperature Max, Min post normalization: nan, nan\n",
            "Temperature Max, Min post normalization: nan, nan\n",
            "Temperature Max, Min post normalization: nan, nan\n",
            "Temperature Max, Min post normalization: nan, nan\n",
            "Temperature Max, Min post normalization: nan, nan\n",
            "Temperature Max, Min post normalization: nan, nan\n",
            "Temperature Max, Min post normalization: nan, nan\n",
            "Temperature Max, Min post normalization: nan, nan\n",
            "Temperature Max, Min post normalization: nan, nan\n",
            "Temperature Max, Min post normalization: nan, nan\n"
          ]
        }
      ]
    },
    {
      "cell_type": "code",
      "source": [
        "tf.random.set_seed(1234)  # applied to achieve consistent results\n",
        "model = Sequential(\n",
        "    [\n",
        "        tf.keras.Input(shape=(29,)),\n",
        "        Dense(1, activation='sigmoid', name = 'layer1'),\n",
        "        Dense(1, activation='sigmoid', name = 'layer2')\n",
        "     ]\n",
        ")"
      ],
      "metadata": {
        "id": "6uO9JsgoXuGQ"
      },
      "execution_count": null,
      "outputs": []
    },
    {
      "cell_type": "code",
      "source": [
        "model.summary()"
      ],
      "metadata": {
        "colab": {
          "base_uri": "https://localhost:8080/"
        },
        "id": "2Yei0EhGap8s",
        "outputId": "8b3ebf36-15f5-4447-a505-51edc19084ff"
      },
      "execution_count": null,
      "outputs": [
        {
          "output_type": "stream",
          "name": "stdout",
          "text": [
            "Model: \"sequential_3\"\n",
            "_________________________________________________________________\n",
            " Layer (type)                Output Shape              Param #   \n",
            "=================================================================\n",
            " layer1 (Dense)              (None, 1)                 30        \n",
            "                                                                 \n",
            " layer2 (Dense)              (None, 1)                 2         \n",
            "                                                                 \n",
            "=================================================================\n",
            "Total params: 32\n",
            "Trainable params: 32\n",
            "Non-trainable params: 0\n",
            "_________________________________________________________________\n"
          ]
        }
      ]
    },
    {
      "cell_type": "code",
      "source": [
        "L1_num_params = 2 * 3 + 3   # W1 parameters  + b1 parameters\n",
        "L2_num_params = 3 * 1 + 1   # W2 parameters  + b2 parameters\n",
        "print(\"L1 params = \", L1_num_params, \", L2 params = \", L2_num_params  )"
      ],
      "metadata": {
        "colab": {
          "base_uri": "https://localhost:8080/"
        },
        "id": "C1kYC845asfa",
        "outputId": "4b7dd09d-453d-45b9-be40-4dcb3306748a"
      },
      "execution_count": null,
      "outputs": [
        {
          "output_type": "stream",
          "name": "stdout",
          "text": [
            "L1 params =  9 , L2 params =  4\n"
          ]
        }
      ]
    },
    {
      "cell_type": "code",
      "source": [
        "W1, b1 = model.get_layer(\"layer1\").get_weights()\n",
        "W2, b2 = model.get_layer(\"layer2\").get_weights()\n",
        "print(f\"W1{W1.shape}:\\n\", W1, f\"\\nb1{b1.shape}:\", b1)\n",
        "print(f\"W2{W2.shape}:\\n\", W2, f\"\\nb2{b2.shape}:\", b2)"
      ],
      "metadata": {
        "colab": {
          "base_uri": "https://localhost:8080/"
        },
        "id": "vIK34PSJbAuB",
        "outputId": "2cf93cef-2e2d-4122-df86-fd94d8a32013"
      },
      "execution_count": null,
      "outputs": [
        {
          "output_type": "stream",
          "name": "stdout",
          "text": [
            "W1(29, 1):\n",
            " [[ 0.01868331]\n",
            " [ 0.05985427]\n",
            " [ 0.1682995 ]\n",
            " [-0.41329885]\n",
            " [ 0.181229  ]\n",
            " [ 0.19429094]\n",
            " [ 0.24895889]\n",
            " [-0.44457048]\n",
            " [-0.26242894]\n",
            " [-0.10611907]\n",
            " [ 0.2876987 ]\n",
            " [ 0.22798032]\n",
            " [ 0.24001175]\n",
            " [ 0.07720935]\n",
            " [ 0.30433023]\n",
            " [ 0.26062495]\n",
            " [ 0.27023196]\n",
            " [-0.2685645 ]\n",
            " [-0.18432331]\n",
            " [ 0.41579586]\n",
            " [-0.31101793]\n",
            " [ 0.33229285]\n",
            " [ 0.43844813]\n",
            " [ 0.32487905]\n",
            " [ 0.08301812]\n",
            " [ 0.117989  ]\n",
            " [ 0.22746468]\n",
            " [ 0.43465137]\n",
            " [-0.18455541]] \n",
            "b1(1,): [0.]\n",
            "W2(1, 1):\n",
            " [[-1.174233]] \n",
            "b2(1,): [0.]\n"
          ]
        }
      ]
    },
    {
      "cell_type": "code",
      "source": [
        "model.compile(\n",
        "    loss = tf.keras.losses.BinaryCrossentropy(),\n",
        "    optimizer = tf.keras.optimizers.Adam(learning_rate=0.01),\n",
        ")\n",
        "\n",
        "model.fit(\n",
        "    X_train,y_train,\n",
        "    epochs=2,\n",
        ")"
      ],
      "metadata": {
        "colab": {
          "base_uri": "https://localhost:8080/"
        },
        "id": "_M9R3kXmbBh0",
        "outputId": "92a56d98-e321-4c58-977e-e5980029b081"
      },
      "execution_count": null,
      "outputs": [
        {
          "output_type": "stream",
          "name": "stdout",
          "text": [
            "Epoch 1/2\n",
            "3873/3873 [==============================] - 8s 2ms/step - loss: 0.0163\n",
            "Epoch 2/2\n",
            "3873/3873 [==============================] - 6s 2ms/step - loss: 0.0051\n"
          ]
        },
        {
          "output_type": "execute_result",
          "data": {
            "text/plain": [
              "<keras.callbacks.History at 0x7f619d5a5610>"
            ]
          },
          "metadata": {},
          "execution_count": 105
        }
      ]
    },
    {
      "cell_type": "code",
      "source": [
        "predictions = model.predict(X_test)\n",
        "\n",
        "yhat = (predictions >= 0.8).astype(int)"
      ],
      "metadata": {
        "colab": {
          "base_uri": "https://localhost:8080/"
        },
        "id": "miabLKzSbKn4",
        "outputId": "7a0fa21f-a4bf-4c2f-8d92-ee9e334d8d9d"
      },
      "execution_count": null,
      "outputs": [
        {
          "output_type": "stream",
          "name": "stdout",
          "text": [
            "1291/1291 [==============================] - 2s 1ms/step\n"
          ]
        }
      ]
    },
    {
      "cell_type": "code",
      "source": [
        "\n",
        "yHat = []\n",
        "for i in yhat:\n",
        "  yHat.append(i[0])\n",
        "yHat = np.array(yHat)\n",
        "\n",
        "c = 0\n",
        "for i, j in zip(y_test, yHat):\n",
        "  if i != j:\n",
        "    c += 1\n",
        "print(c)\n",
        "print(1 - c/len(yHat))\n",
        "\n",
        ""
      ],
      "metadata": {
        "colab": {
          "base_uri": "https://localhost:8080/"
        },
        "id": "J8xsHez9cBhT",
        "outputId": "0aafb5e6-7ff0-4991-95c1-e823302338a6"
      },
      "execution_count": null,
      "outputs": [
        {
          "output_type": "stream",
          "name": "stdout",
          "text": [
            "98\n",
            "0.9976272335480122\n"
          ]
        }
      ]
    },
    {
      "cell_type": "markdown",
      "source": [],
      "metadata": {
        "id": "zk5bweZQcGZA"
      }
    }
  ]
}