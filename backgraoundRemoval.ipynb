{
  "nbformat": 4,
  "nbformat_minor": 0,
  "metadata": {
    "colab": {
      "provenance": [],
      "authorship_tag": "ABX9TyOmXW53frqJg1/igUOsLCJQ",
      "include_colab_link": true
    },
    "kernelspec": {
      "name": "python3",
      "display_name": "Python 3"
    },
    "language_info": {
      "name": "python"
    }
  },
  "cells": [
    {
      "cell_type": "markdown",
      "metadata": {
        "id": "view-in-github",
        "colab_type": "text"
      },
      "source": [
        "<a href=\"https://colab.research.google.com/github/Inishpy/DeepLearningWork/blob/main/backgraoundRemoval.ipynb\" target=\"_parent\"><img src=\"https://colab.research.google.com/assets/colab-badge.svg\" alt=\"Open In Colab\"/></a>"
      ]
    },
    {
      "cell_type": "code",
      "execution_count": null,
      "metadata": {
        "id": "zauhIg3DDLKc"
      },
      "outputs": [],
      "source": [
        "pip install gradio_client\n"
      ]
    },
    {
      "cell_type": "code",
      "source": [
        "from gradio_client import Client\n",
        "\n",
        "client = Client(\"https://eccv2022-dis-background-removal.hf.space/--replicas/xsv8g/\")\n",
        "result = client.predict(\n",
        "\t\t\"https://raw.githubusercontent.com/gradio-app/gradio/main/test/test_files/bus.png\",\t# str (filepath on your computer (or URL) of image) in 'image' Image component\n",
        "\t\tapi_name=\"/predict\"\n",
        ")\n",
        "print(result)"
      ],
      "metadata": {
        "colab": {
          "base_uri": "https://localhost:8080/"
        },
        "id": "AQacBmdMDjqS",
        "outputId": "6f572e93-f6eb-408e-bd26-52091c665603"
      },
      "execution_count": null,
      "outputs": [
        {
          "output_type": "stream",
          "name": "stdout",
          "text": [
            "Loaded as API: https://eccv2022-dis-background-removal.hf.space/--replicas/xsv8g/ ✔\n",
            "('/tmp/gradio/452e2bd96a41e4c49eca80cf7fb040dd2218533a/tmpbzqjpajj.png', '/tmp/gradio/1b03e5edc4daff6801f822e920087ca2dd53cefe/tmpxo63g5l9.png')\n"
          ]
        }
      ]
    },
    {
      "cell_type": "code",
      "source": [
        "from gradio_client import Client\n",
        "\n",
        "client = Client(\"https://one-2-3-45-one-2-3-45.hf.space/\")\n",
        "result = client.predict(\n",
        "\t\t\t\t\"https://raw.githubusercontent.com/gradio-app/gradio/main/test/test_files/bus.png\",\t# str (filepath or URL to image)\n",
        "\t\t\t\t\t\t\t\t#in 'Input image' Image component\n",
        "\t\t\t\tTrue,\t# bool in 'parameter_68' Checkbox component\n",
        "\t\t\t\tapi_name=\"/generate_mesh\"\n",
        ")\n",
        "print(result)"
      ],
      "metadata": {
        "colab": {
          "base_uri": "https://localhost:8080/"
        },
        "id": "O-6jQVX0DnIx",
        "outputId": "c37993bb-7e25-4c99-8832-d50e198668e5"
      },
      "execution_count": null,
      "outputs": [
        {
          "output_type": "stream",
          "name": "stdout",
          "text": [
            "Loaded as API: https://one-2-3-45-one-2-3-45.hf.space/ ✔\n",
            "/tmp/gradio/efb47b1539888280eef5878cee8b2da87e63d18b/mesh_00215000_gradio_lod0.ply\n"
          ]
        }
      ]
    }
  ]
}